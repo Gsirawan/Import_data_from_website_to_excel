{
 "cells": [
  {
   "cell_type": "markdown",
   "metadata": {
    "pycharm": {
     "name": "#%% md\n"
    }
   },
   "source": [
    "# Importing data to pandas"
   ]
  },
  {
   "cell_type": "markdown",
   "metadata": {
    "pycharm": {
     "name": "#%%\n"
    }
   },
   "source": [
    "### Importing via weblink (tables)"
   ]
  },
  {
   "cell_type": "code",
   "execution_count": 1,
   "metadata": {},
   "outputs": [],
   "source": [
    "import pandas as pd\n",
    "import ssl\n",
    "line = \"============================================================================================\""
   ]
  },
  {
   "cell_type": "code",
   "execution_count": 13,
   "metadata": {},
   "outputs": [
    {
     "name": "stdout",
     "output_type": "stream",
     "text": [
      "Please write the full link of your data webpage source:\n",
      "https://pbpython.com/pandas-html-table.html\n"
     ]
    }
   ],
   "source": [
    "#verify my end to pull the data from the source \n",
    "ssl._create_default_https_context = ssl._create_unverified_context\n",
    "\n",
    "#loading the wikipedia webpage into the dataframe\n",
    "data_tables = pd.read_html(input(\"Please write the full link of your data webpage source:\\n\"))"
   ]
  },
  {
   "cell_type": "code",
   "execution_count": 18,
   "metadata": {},
   "outputs": [
    {
     "name": "stdout",
     "output_type": "stream",
     "text": [
      "Please enter the table number (you can find it in the source page):\n",
      "2\n",
      "============================================================================================\n",
      "the Data Frame shape is :  (5, 10)\n",
      "============================================================================================\n"
     ]
    },
    {
     "data": {
      "text/html": [
       "<div>\n",
       "<style scoped>\n",
       "    .dataframe tbody tr th:only-of-type {\n",
       "        vertical-align: middle;\n",
       "    }\n",
       "\n",
       "    .dataframe tbody tr th {\n",
       "        vertical-align: top;\n",
       "    }\n",
       "\n",
       "    .dataframe thead th {\n",
       "        text-align: right;\n",
       "    }\n",
       "</style>\n",
       "<table border=\"1\" class=\"dataframe\">\n",
       "  <thead>\n",
       "    <tr style=\"text-align: right;\">\n",
       "      <th></th>\n",
       "      <th>Unnamed: 0</th>\n",
       "      <th>Year</th>\n",
       "      <th>Nominal GDP(in bil. US-Dollar)</th>\n",
       "      <th>GDP per capita(in US-Dollar)</th>\n",
       "      <th>GDP growth(real)</th>\n",
       "      <th>Inflation rate(in percent)</th>\n",
       "      <th>Unemployment (in percent)</th>\n",
       "      <th>Budget balance(in % of GDP)[107]</th>\n",
       "      <th>Government debt held by public(in % of GDP)[108]</th>\n",
       "      <th>Current account balance(in % of GDP)</th>\n",
       "    </tr>\n",
       "  </thead>\n",
       "  <tbody>\n",
       "    <tr>\n",
       "      <th>0</th>\n",
       "      <td>0</td>\n",
       "      <td>2020</td>\n",
       "      <td>20234.0</td>\n",
       "      <td>57589</td>\n",
       "      <td>-5.9</td>\n",
       "      <td>0.62</td>\n",
       "      <td>11.1</td>\n",
       "      <td>NaN</td>\n",
       "      <td>79.9</td>\n",
       "      <td>NaN</td>\n",
       "    </tr>\n",
       "    <tr>\n",
       "      <th>1</th>\n",
       "      <td>1</td>\n",
       "      <td>2019</td>\n",
       "      <td>21439.0</td>\n",
       "      <td>64674</td>\n",
       "      <td>2.2</td>\n",
       "      <td>1.80</td>\n",
       "      <td>3.5</td>\n",
       "      <td>-4.6</td>\n",
       "      <td>78.9</td>\n",
       "      <td>-2.5</td>\n",
       "    </tr>\n",
       "    <tr>\n",
       "      <th>2</th>\n",
       "      <td>2</td>\n",
       "      <td>2018</td>\n",
       "      <td>20580.2</td>\n",
       "      <td>62869</td>\n",
       "      <td>3.0</td>\n",
       "      <td>2.40</td>\n",
       "      <td>3.9</td>\n",
       "      <td>-3.8</td>\n",
       "      <td>77.8</td>\n",
       "      <td>-2.4</td>\n",
       "    </tr>\n",
       "    <tr>\n",
       "      <th>3</th>\n",
       "      <td>3</td>\n",
       "      <td>2017</td>\n",
       "      <td>19519.4</td>\n",
       "      <td>60000</td>\n",
       "      <td>2.3</td>\n",
       "      <td>2.10</td>\n",
       "      <td>4.4</td>\n",
       "      <td>-3.4</td>\n",
       "      <td>76.1</td>\n",
       "      <td>-2.3</td>\n",
       "    </tr>\n",
       "    <tr>\n",
       "      <th>4</th>\n",
       "      <td>4</td>\n",
       "      <td>2016</td>\n",
       "      <td>18715.0</td>\n",
       "      <td>57878</td>\n",
       "      <td>1.7</td>\n",
       "      <td>1.30</td>\n",
       "      <td>4.9</td>\n",
       "      <td>-3.1</td>\n",
       "      <td>76.4</td>\n",
       "      <td>-2.3</td>\n",
       "    </tr>\n",
       "  </tbody>\n",
       "</table>\n",
       "</div>"
      ],
      "text/plain": [
       "   Unnamed: 0  Year  Nominal GDP(in bil. US-Dollar)  \\\n",
       "0           0  2020                         20234.0   \n",
       "1           1  2019                         21439.0   \n",
       "2           2  2018                         20580.2   \n",
       "3           3  2017                         19519.4   \n",
       "4           4  2016                         18715.0   \n",
       "\n",
       "   GDP per capita(in US-Dollar)  GDP growth(real)  Inflation rate(in percent)  \\\n",
       "0                         57589              -5.9                        0.62   \n",
       "1                         64674               2.2                        1.80   \n",
       "2                         62869               3.0                        2.40   \n",
       "3                         60000               2.3                        2.10   \n",
       "4                         57878               1.7                        1.30   \n",
       "\n",
       "   Unemployment (in percent)  Budget balance(in % of GDP)[107]  \\\n",
       "0                       11.1                               NaN   \n",
       "1                        3.5                              -4.6   \n",
       "2                        3.9                              -3.8   \n",
       "3                        4.4                              -3.4   \n",
       "4                        4.9                              -3.1   \n",
       "\n",
       "   Government debt held by public(in % of GDP)[108]  \\\n",
       "0                                              79.9   \n",
       "1                                              78.9   \n",
       "2                                              77.8   \n",
       "3                                              76.1   \n",
       "4                                              76.4   \n",
       "\n",
       "   Current account balance(in % of GDP)  \n",
       "0                                   NaN  \n",
       "1                                  -2.5  \n",
       "2                                  -2.4  \n",
       "3                                  -2.3  \n",
       "4                                  -2.3  "
      ]
     },
     "execution_count": 18,
     "metadata": {},
     "output_type": "execute_result"
    }
   ],
   "source": [
    "#Extract the table in the webpage\n",
    "table_number = int(input(\"Please enter the table number (you can find it in the source page):\\n\"))\n",
    "the_table = data_tables[table_number]\n",
    "\n",
    "#display the shape of the dataframe to get the rows count\n",
    "print(line)\n",
    "print(\"the Data Frame shape is : \", the_table.shape)\n",
    "print(line)\n",
    "\n",
    "#overview for the table \n",
    "the_table.head()"
   ]
  },
  {
   "cell_type": "code",
   "execution_count": 12,
   "metadata": {},
   "outputs": [
    {
     "name": "stdout",
     "output_type": "stream",
     "text": [
      "Please write the csv file name that want to save (filename.csv): uk_cities.csv\n",
      "============================================================================================\n",
      "The file has been successfully saved :)\n"
     ]
    }
   ],
   "source": [
    "#Save your datafarm table to CSV file\n",
    "try:\n",
    "    the_table.to_csv(input(r\"Please write the csv file name that want to save (filename.csv): \"), index = False)\n",
    "    print(line)\n",
    "    print(\"The file has been successfully saved :)\")\n",
    "except:\n",
    "    print(\"Something went wrong while saving the csv file!\")\n"
   ]
  },
  {
   "cell_type": "code",
   "execution_count": null,
   "metadata": {},
   "outputs": [],
   "source": []
  }
 ],
 "metadata": {
  "kernelspec": {
   "display_name": "Python 3",
   "language": "python",
   "name": "python3"
  },
  "language_info": {
   "codemirror_mode": {
    "name": "ipython",
    "version": 3
   },
   "file_extension": ".py",
   "mimetype": "text/x-python",
   "name": "python",
   "nbconvert_exporter": "python",
   "pygments_lexer": "ipython3",
   "version": "3.9.1"
  }
 },
 "nbformat": 4,
 "nbformat_minor": 1
}
